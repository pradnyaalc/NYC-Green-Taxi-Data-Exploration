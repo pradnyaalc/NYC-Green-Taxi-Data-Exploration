{
 "cells": [
  {
   "cell_type": "code",
   "execution_count": null,
   "metadata": {},
   "outputs": [],
   "source": [
    "import pandas as pd\n",
    "location_df = pd.read_csv(\"loc_df.csv\", sep='\\t')\n",
    "actual_df = pd.read_csv(\"actual_sf.csv\", sep='\\t')"
   ]
  },
  {
   "cell_type": "code",
   "execution_count": null,
   "metadata": {},
   "outputs": [],
   "source": [
    "data = actual_df.append(location_df)\n",
    "data.to_csv(\"final_data.csv\", sep='\\t')"
   ]
  },
  {
   "cell_type": "code",
   "execution_count": null,
   "metadata": {},
   "outputs": [],
   "source": [
    "import pandas as pd\n",
    "data = pd.read_csv(\"final_data.csv\", sep='\\t')"
   ]
  },
  {
   "cell_type": "code",
   "execution_count": null,
   "metadata": {},
   "outputs": [],
   "source": [
    "data_hail = data[data['Trip_type '] == 1]"
   ]
  },
  {
   "cell_type": "code",
   "execution_count": null,
   "metadata": {},
   "outputs": [],
   "source": [
    "data_hail = data_hail[(data_hail['lpep_pickup_datetime']>'06/01/2016 00:00:00 AM') & (data_hail['lpep_pickup_datetime']<='06/30/2016 23:59:59 PM')]\n",
    "len(data_hail)"
   ]
  },
  {
   "cell_type": "code",
   "execution_count": null,
   "metadata": {},
   "outputs": [],
   "source": [
    "data_hail = data_hail.drop(columns=['Unnamed: 0','Unnamed: 0.1', 'Store_and_fwd_flag', 'RateCodeID', 'Extra', 'MTA_tax', 'Tip_amount', 'Tolls_amount', 'Ehail_fee', 'improvement_surcharge', 'Total_amount'])\n",
    "# data_hail.columns.values"
   ]
  },
  {
   "cell_type": "code",
   "execution_count": null,
   "metadata": {},
   "outputs": [],
   "source": [
    "data_hail.to_csv(\"newd/hailForStats.csv\", sep='\\t')"
   ]
  },
  {
   "cell_type": "code",
   "execution_count": null,
   "metadata": {
    "scrolled": false
   },
   "outputs": [],
   "source": [
    "data_hail.sample(n=1000000).describe()"
   ]
  },
  {
   "cell_type": "code",
   "execution_count": null,
   "metadata": {},
   "outputs": [],
   "source": [
    "data_hail = data_hail[ (data_hail['Pickup_longitude'] >= -74.2748) & (data_hail['Pickup_longitude'] <= -73.70741) & \\\n",
    "              (data_hail['Pickup_latitude'] >= 40.45326) & (data_hail['Pickup_latitude'] <= 40.94788) & \\\n",
    "              (data_hail['Dropoff_longitude'] >= -74.2748) & (data_hail['Dropoff_longitude'] <= -73.70741) & \\\n",
    "              (data_hail['Dropoff_latitude'] >= 40.45326) & (data_hail['Dropoff_latitude'] <= 40.94788)]"
   ]
  },
  {
   "cell_type": "code",
   "execution_count": null,
   "metadata": {},
   "outputs": [],
   "source": [
    "actual_data = data_hail[data_hail['Trip_distance']!=0.0]\n",
    "out_tdist = data_hail[data_hail['Trip_distance']==0.0]\n",
    "# type(out_tdist)\n",
    "\n",
    "import mpu\n",
    "\n",
    "def get_distance(lat1, lon1, lat2, lon2):\n",
    "    dist = mpu.haversine_distance((lat1, lon1), (lat2, lon2))\n",
    "    return dist\n",
    "\n",
    "out_tdist['Trip_distance']=out_tdist.apply(lambda row:get_distance(row['Pickup_latitude'],row['Pickup_longitude'],row['Dropoff_latitude'],row['Dropoff_longitude']),axis=1)\n",
    "out_tdist[[\"Pickup_longitude\", \"Pickup_latitude\", \"Dropoff_longitude\", \"Dropoff_latitude\", \"Trip_distance\", \"Fare_amount\"]]"
   ]
  },
  {
   "cell_type": "code",
   "execution_count": null,
   "metadata": {},
   "outputs": [],
   "source": [
    "data_hail = actual_data.append(out_tdist)\n",
    "print(len(data_hail))"
   ]
  },
  {
   "cell_type": "code",
   "execution_count": null,
   "metadata": {},
   "outputs": [],
   "source": [
    "import numpy as np\n",
    "\n",
    "spl = []\n",
    "spl.append(data_hail.iloc[:1000000])\n",
    "spl.append(data_hail.iloc[1000000:])\n",
    "len(spl)"
   ]
  },
  {
   "cell_type": "code",
   "execution_count": null,
   "metadata": {},
   "outputs": [],
   "source": [
    "lf = spl[1]\n",
    "actual_data = lf [lf['Fare_amount'] >= 0]\n",
    "out_fare = lf [lf['Fare_amount'] < 0]\n",
    "len(out_fare)"
   ]
  },
  {
   "cell_type": "code",
   "execution_count": null,
   "metadata": {},
   "outputs": [],
   "source": [
    "df = pd.DataFrame(columns=list(out_fare.columns.values))\n",
    "\n",
    "for i in range(len(out_fare)):\n",
    "    test_df = out_fare.iloc[i]\n",
    "    tf = data_hail[ (data_hail['Pickup_longitude'] == test_df['Pickup_longitude']) & (data_hail['Pickup_latitude'] == test_df['Pickup_latitude']) \\\n",
    "         & (data_hail['Dropoff_longitude']== test_df['Dropoff_longitude']) & (data_hail['Dropoff_latitude'] == test_df['Dropoff_latitude']) \\\n",
    "         & (data_hail['Trip_distance']== test_df['Trip_distance']) ]\n",
    "    if len(tf) > 1:\n",
    "        test_df['Fare_amount']= tf[ tf['Fare_amount'] > 0]['Fare_amount'].mean()\n",
    "        df = df.append(test_df)"
   ]
  },
  {
   "cell_type": "code",
   "execution_count": null,
   "metadata": {},
   "outputs": [],
   "source": [
    "data1 = actual_data.append(df)\n",
    "len(data1)"
   ]
  },
  {
   "cell_type": "code",
   "execution_count": null,
   "metadata": {},
   "outputs": [],
   "source": [
    "data_hail = data_hail.append(data1)\n",
    "len(data_hail)\n"
   ]
  },
  {
   "cell_type": "code",
   "execution_count": null,
   "metadata": {},
   "outputs": [],
   "source": [
    "data_hail['lpep_pickup_datetime'] = pd.to_datetime(data_hail['lpep_pickup_datetime'],errors=\"coerce\")\n",
    "data_hail['Lpep_dropoff_datetime'] = pd.to_datetime(data_hail['Lpep_dropoff_datetime'],errors=\"coerce\")"
   ]
  },
  {
   "cell_type": "code",
   "execution_count": null,
   "metadata": {},
   "outputs": [],
   "source": [
    "import calendar\n",
    "\n",
    "data_hail['pickup_date']= data_hail['lpep_pickup_datetime'].dt.date\n",
    "data_hail['pickup_day']=data_hail['lpep_pickup_datetime'].apply(lambda x:x.day)\n",
    "data_hail['pickup_hour']=data_hail['lpep_pickup_datetime'].apply(lambda x:x.hour)\n",
    "data_hail['pickup_day_of_week']=data_hail['lpep_pickup_datetime'].apply(lambda x:calendar.day_name[x.weekday()])\n",
    "data_hail['pickup_month']=data_hail['lpep_pickup_datetime'].apply(lambda x:x.month)\n",
    "data_hail['pickup_year']=data_hail['lpep_pickup_datetime'].apply(lambda x:x.year)"
   ]
  },
  {
   "cell_type": "code",
   "execution_count": null,
   "metadata": {},
   "outputs": [],
   "source": [
    "data_hail.head()"
   ]
  },
  {
   "cell_type": "code",
   "execution_count": null,
   "metadata": {},
   "outputs": [],
   "source": [
    "data_hail.to_csv(\"newd/hail_df.csv\", sep='\\t')"
   ]
  },
  {
   "cell_type": "code",
   "execution_count": null,
   "metadata": {},
   "outputs": [],
   "source": []
  },
  {
   "cell_type": "code",
   "execution_count": null,
   "metadata": {},
   "outputs": [],
   "source": []
  },
  {
   "cell_type": "code",
   "execution_count": null,
   "metadata": {},
   "outputs": [],
   "source": [
    "data_dispatch = data[data['Trip_type '] == 2]"
   ]
  },
  {
   "cell_type": "code",
   "execution_count": null,
   "metadata": {},
   "outputs": [],
   "source": [
    "data_dispatch = data_dispatch.drop(columns=['Unnamed: 0','Unnamed: 0.1', 'Store_and_fwd_flag', 'RateCodeID', 'Extra', 'MTA_tax', 'Tip_amount', 'Tolls_amount', 'Ehail_fee', 'improvement_surcharge', 'Total_amount'])"
   ]
  },
  {
   "cell_type": "code",
   "execution_count": null,
   "metadata": {
    "scrolled": true
   },
   "outputs": [],
   "source": [
    "len(data_dispatch)\n",
    "data_dispatch.describe()"
   ]
  },
  {
   "cell_type": "code",
   "execution_count": null,
   "metadata": {},
   "outputs": [],
   "source": [
    "data_dispatch = data_dispatch[ (data_dispatch['Pickup_longitude'] >= -74.2748) & (data_dispatch['Pickup_longitude'] <= -73.70741) & \\\n",
    "              (data_dispatch['Pickup_latitude'] >= 40.45326) & (data_dispatch['Pickup_latitude'] <= 40.94788) & \\\n",
    "              (data_dispatch['Dropoff_longitude'] >= -74.2748) & (data_dispatch['Dropoff_longitude'] <= -73.70741) & \\\n",
    "              (data_dispatch['Dropoff_latitude'] >= 40.45326) & (data_dispatch['Dropoff_latitude'] <= 40.94788)]"
   ]
  },
  {
   "cell_type": "code",
   "execution_count": null,
   "metadata": {},
   "outputs": [],
   "source": [
    "actual_data = data_dispatch[data_dispatch['Trip_distance']!=0.0]\n",
    "out_tdist = data_dispatch[data_dispatch['Trip_distance']==0.0]\n",
    "# type(out_tdist)\n",
    "\n",
    "import mpu\n",
    "\n",
    "def get_distance(lat1, lon1, lat2, lon2):\n",
    "    dist = mpu.haversine_distance((lat1, lon1), (lat2, lon2))\n",
    "    return dist\n",
    "\n",
    "out_tdist['Trip_distance']=out_tdist.apply(lambda row:get_distance(row['Pickup_latitude'],row['Pickup_longitude'],row['Dropoff_latitude'],row['Dropoff_longitude']),axis=1)\n",
    "out_tdist[[\"Pickup_longitude\", \"Pickup_latitude\", \"Dropoff_longitude\", \"Dropoff_latitude\", \"Trip_distance\", \"Fare_amount\"]]"
   ]
  },
  {
   "cell_type": "code",
   "execution_count": null,
   "metadata": {},
   "outputs": [],
   "source": [
    "data_dispatch = actual_data.append(out_tdist)\n",
    "print(len(data_dispatch))"
   ]
  },
  {
   "cell_type": "code",
   "execution_count": null,
   "metadata": {},
   "outputs": [],
   "source": [
    "actual_data = data_dispatch [data_dispatch['Fare_amount'] >= 0]\n",
    "out_fare = data_dispatch [data_dispatch['Fare_amount'] < 0]\n",
    "len(out_fare)"
   ]
  },
  {
   "cell_type": "code",
   "execution_count": null,
   "metadata": {},
   "outputs": [],
   "source": [
    "df = pd.DataFrame(columns=list(out_fare.columns.values))\n",
    "\n",
    "for i in range(len(out_fare)):\n",
    "    test_df = out_fare.iloc[i]\n",
    "    tf = data_dispatch[ (data_dispatch['Pickup_longitude'] == test_df['Pickup_longitude']) & (data_dispatch['Pickup_latitude'] == test_df['Pickup_latitude']) \\\n",
    "         & (data_dispatch['Dropoff_longitude']== test_df['Dropoff_longitude']) & (data_dispatch['Dropoff_latitude'] == test_df['Dropoff_latitude']) \\\n",
    "         & (data_dispatch['Trip_distance']== test_df['Trip_distance']) ]\n",
    "    if len(tf) > 1:\n",
    "        test_df['Fare_amount']= tf[ tf['Fare_amount'] > 0]['Fare_amount'].mean()\n",
    "        df = df.append(test_df)"
   ]
  },
  {
   "cell_type": "code",
   "execution_count": null,
   "metadata": {},
   "outputs": [],
   "source": [
    "data_dispatch = actual_data.append(df)\n",
    "len(data_dispatch)"
   ]
  },
  {
   "cell_type": "code",
   "execution_count": null,
   "metadata": {},
   "outputs": [],
   "source": [
    "data_dispatch['lpep_pickup_datetime'] = pd.to_datetime(data_dispatch['lpep_pickup_datetime'],errors=\"coerce\")\n",
    "data_dispatch['Lpep_dropoff_datetime'] = pd.to_datetime(data_dispatch['Lpep_dropoff_datetime'],errors=\"coerce\")"
   ]
  },
  {
   "cell_type": "code",
   "execution_count": null,
   "metadata": {},
   "outputs": [],
   "source": [
    "import calendar\n",
    "\n",
    "data_dispatch['pickup_date']= data_dispatch['lpep_pickup_datetime'].dt.date\n",
    "data_dispatch['pickup_day']=data_dispatch['lpep_pickup_datetime'].apply(lambda x:x.day)\n",
    "data_dispatch['pickup_hour']=data_dispatch['lpep_pickup_datetime'].apply(lambda x:x.hour)\n",
    "data_dispatch['pickup_day_of_week']=data_dispatch['lpep_pickup_datetime'].apply(lambda x:calendar.day_name[x.weekday()])\n",
    "data_dispatch['pickup_month']=data_dispatch['lpep_pickup_datetime'].apply(lambda x:x.month)\n",
    "data_dispatch['pickup_year']=data_dispatch['lpep_pickup_datetime'].apply(lambda x:x.year)"
   ]
  },
  {
   "cell_type": "code",
   "execution_count": null,
   "metadata": {},
   "outputs": [],
   "source": [
    "data_dispatch.head()"
   ]
  },
  {
   "cell_type": "code",
   "execution_count": null,
   "metadata": {},
   "outputs": [],
   "source": [
    "data_dispatch.to_csv(\"newd/dispatch_df.csv\", sep='\\t')"
   ]
  }
 ],
 "metadata": {
  "kernelspec": {
   "display_name": "Python 3",
   "language": "python",
   "name": "python3"
  },
  "language_info": {
   "codemirror_mode": {
    "name": "ipython",
    "version": 3
   },
   "file_extension": ".py",
   "mimetype": "text/x-python",
   "name": "python",
   "nbconvert_exporter": "python",
   "pygments_lexer": "ipython3",
   "version": "3.6.7"
  }
 },
 "nbformat": 4,
 "nbformat_minor": 2
}
